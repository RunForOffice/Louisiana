{
 "cells": [
  {
   "cell_type": "markdown",
   "metadata": {
    "colab_type": "text",
    "id": "qQ_d7yRsQL-j"
   },
   "source": [
    "# Analysis of Competitiveness\n",
    "### la-results-clean.csv\n",
    "\n",
    "Here, I'm going to take a look at some election results for the state of Louisiana to understand just how competitive these elections are."
   ]
  },
  {
   "cell_type": "code",
   "execution_count": 1,
   "metadata": {
    "colab": {},
    "colab_type": "code",
    "id": "k1yR2ZHUQL-l"
   },
   "outputs": [],
   "source": [
    "%matplotlib inline"
   ]
  },
  {
   "cell_type": "markdown",
   "metadata": {
    "colab_type": "text",
    "id": "CtYKOLgeQL-r"
   },
   "source": [
    "### Imports"
   ]
  },
  {
   "cell_type": "code",
   "execution_count": 2,
   "metadata": {
    "colab": {},
    "colab_type": "code",
    "id": "MYgT4r2jQL-t"
   },
   "outputs": [],
   "source": [
    "import numpy as np\n",
    "import pandas as pd\n",
    "\n",
    "import matplotlib.pyplot as plt\n",
    "plt.style.use('ggplot')\n",
    "\n",
    "import seaborn as sns\n",
    "sns.set(style='darkgrid')"
   ]
  },
  {
   "cell_type": "markdown",
   "metadata": {
    "colab_type": "text",
    "id": "7LkrSL44QL-x"
   },
   "source": [
    "### Loading the Data"
   ]
  },
  {
   "cell_type": "code",
   "execution_count": 3,
   "metadata": {
    "colab": {},
    "colab_type": "code",
    "id": "ZYVz2hLqQL-z"
   },
   "outputs": [],
   "source": [
    "RESULTS_PATH = 'data/la-results-clean.csv'"
   ]
  },
  {
   "cell_type": "code",
   "execution_count": 4,
   "metadata": {
    "colab": {
     "base_uri": "https://localhost:8080/",
     "height": 904
    },
    "colab_type": "code",
    "executionInfo": {
     "elapsed": 494,
     "status": "error",
     "timestamp": 1535069308277,
     "user": {
      "displayName": "Prratek Ramchandani",
      "photoUrl": "https://lh3.googleusercontent.com/a/default-user=s128",
      "userId": "110720392704732430642"
     },
     "user_tz": 240
    },
    "id": "8DgUHoKDQL-2",
    "outputId": "f5c827d3-ef2e-4228-d45f-3c04913329f8"
   },
   "outputs": [
    {
     "data": {
      "text/html": [
       "<div>\n",
       "<style scoped>\n",
       "    .dataframe tbody tr th:only-of-type {\n",
       "        vertical-align: middle;\n",
       "    }\n",
       "\n",
       "    .dataframe tbody tr th {\n",
       "        vertical-align: top;\n",
       "    }\n",
       "\n",
       "    .dataframe thead th {\n",
       "        text-align: right;\n",
       "    }\n",
       "</style>\n",
       "<table border=\"1\" class=\"dataframe\">\n",
       "  <thead>\n",
       "    <tr style=\"text-align: right;\">\n",
       "      <th></th>\n",
       "      <th>position</th>\n",
       "      <th>district</th>\n",
       "      <th>candidate</th>\n",
       "      <th>year</th>\n",
       "      <th>parish</th>\n",
       "      <th>party</th>\n",
       "      <th>votes</th>\n",
       "      <th>n_can</th>\n",
       "      <th>n_dem</th>\n",
       "      <th>n_rep</th>\n",
       "      <th>n_nopty</th>\n",
       "      <th>n_other</th>\n",
       "      <th>genoffice</th>\n",
       "    </tr>\n",
       "  </thead>\n",
       "  <tbody>\n",
       "    <tr>\n",
       "      <th>1</th>\n",
       "      <td>Alderman</td>\n",
       "      <td>District  1, Town of Oberlin</td>\n",
       "      <td>Carey Marcantel</td>\n",
       "      <td>2014</td>\n",
       "      <td>Allen</td>\n",
       "      <td>REP</td>\n",
       "      <td>136</td>\n",
       "      <td>2</td>\n",
       "      <td>1</td>\n",
       "      <td>1</td>\n",
       "      <td>0</td>\n",
       "      <td>0</td>\n",
       "      <td>Alderman</td>\n",
       "    </tr>\n",
       "    <tr>\n",
       "      <th>2</th>\n",
       "      <td>Alderman</td>\n",
       "      <td>District  1, Town of Oberlin</td>\n",
       "      <td>Wallace Bellard, Jr.</td>\n",
       "      <td>2014</td>\n",
       "      <td>Allen</td>\n",
       "      <td>DEM</td>\n",
       "      <td>37</td>\n",
       "      <td>2</td>\n",
       "      <td>1</td>\n",
       "      <td>1</td>\n",
       "      <td>0</td>\n",
       "      <td>0</td>\n",
       "      <td>Alderman</td>\n",
       "    </tr>\n",
       "    <tr>\n",
       "      <th>3</th>\n",
       "      <td>Alderman</td>\n",
       "      <td>District  2, Town of Oberlin</td>\n",
       "      <td>Philip \"Phil\" Beard</td>\n",
       "      <td>2014</td>\n",
       "      <td>Allen</td>\n",
       "      <td>DEM</td>\n",
       "      <td>82</td>\n",
       "      <td>2</td>\n",
       "      <td>2</td>\n",
       "      <td>0</td>\n",
       "      <td>0</td>\n",
       "      <td>0</td>\n",
       "      <td>Alderman</td>\n",
       "    </tr>\n",
       "    <tr>\n",
       "      <th>4</th>\n",
       "      <td>Alderman</td>\n",
       "      <td>District  2, Town of Oberlin</td>\n",
       "      <td>Robert Vest</td>\n",
       "      <td>2014</td>\n",
       "      <td>Allen</td>\n",
       "      <td>DEM</td>\n",
       "      <td>95</td>\n",
       "      <td>2</td>\n",
       "      <td>2</td>\n",
       "      <td>0</td>\n",
       "      <td>0</td>\n",
       "      <td>0</td>\n",
       "      <td>Alderman</td>\n",
       "    </tr>\n",
       "    <tr>\n",
       "      <th>5</th>\n",
       "      <td>Alderman</td>\n",
       "      <td>District  2, Town of Plain Dealing</td>\n",
       "      <td>James \"Jim\" Parrish</td>\n",
       "      <td>2014</td>\n",
       "      <td>Bossier</td>\n",
       "      <td>NOPTY</td>\n",
       "      <td>153</td>\n",
       "      <td>2</td>\n",
       "      <td>0</td>\n",
       "      <td>0</td>\n",
       "      <td>2</td>\n",
       "      <td>0</td>\n",
       "      <td>Alderman</td>\n",
       "    </tr>\n",
       "  </tbody>\n",
       "</table>\n",
       "</div>"
      ],
      "text/plain": [
       "   position                            district              candidate  year  \\\n",
       "1  Alderman        District  1, Town of Oberlin       Carey Marcantel   2014   \n",
       "2  Alderman        District  1, Town of Oberlin  Wallace Bellard, Jr.   2014   \n",
       "3  Alderman        District  2, Town of Oberlin   Philip \"Phil\" Beard   2014   \n",
       "4  Alderman        District  2, Town of Oberlin           Robert Vest   2014   \n",
       "5  Alderman  District  2, Town of Plain Dealing   James \"Jim\" Parrish   2014   \n",
       "\n",
       "    parish  party  votes  n_can  n_dem  n_rep  n_nopty  n_other genoffice  \n",
       "1    Allen    REP    136      2      1      1        0        0  Alderman  \n",
       "2    Allen    DEM     37      2      1      1        0        0  Alderman  \n",
       "3    Allen    DEM     82      2      2      0        0        0  Alderman  \n",
       "4    Allen    DEM     95      2      2      0        0        0  Alderman  \n",
       "5  Bossier  NOPTY    153      2      0      0        2        0  Alderman  "
      ]
     },
     "execution_count": 4,
     "metadata": {},
     "output_type": "execute_result"
    }
   ],
   "source": [
    "results = pd.read_csv(RESULTS_PATH, index_col=0)\n",
    "results.head()"
   ]
  },
  {
   "cell_type": "markdown",
   "metadata": {
    "colab_type": "text",
    "id": "9kkmw80BQL-_"
   },
   "source": [
    "### Early Analysis\n",
    "\n",
    "First, I plot the number of races grouped by the number of candidates running in them. I divide up the bar by the number of elections one per party."
   ]
  },
  {
   "cell_type": "code",
   "execution_count": 5,
   "metadata": {
    "colab": {},
    "colab_type": "code",
    "id": "ZipvCgN3QL_C"
   },
   "outputs": [],
   "source": [
    "# unique n_can entries in our table\n",
    "n_can_counts = results['n_can'].value_counts()\n",
    "#party_by_n_can = results.groupby(['n_can', 'party']).count()['position']\n",
    "#print(n_can_counts)\n",
    "\n",
    "dem_n_can = results['n_can'][results['party']=='DEM'][results['n_can'] < 16].value_counts()\n",
    "rep_n_can = results['n_can'][results['party']=='REP'][results['n_can'] < 16].value_counts()\n",
    "nopty_n_can = results['n_can'][results['party']=='NOPTY'][results['n_can'] < 16].value_counts()\n",
    "other_n_can = results['n_can'][results['party']=='OTHER'][results['n_can'] < 16].value_counts()"
   ]
  },
  {
   "cell_type": "code",
   "execution_count": 6,
   "metadata": {
    "colab": {},
    "colab_type": "code",
    "id": "i1yxqHitQL_G",
    "outputId": "e130d92a-e1ce-4add-b15a-2f1c02f83ff0"
   },
   "outputs": [
    {
     "name": "stderr",
     "output_type": "stream",
     "text": [
      "/Users/prratekramchandani/anaconda3/lib/python3.6/site-packages/ipykernel/__main__.py:6: UserWarning: Boolean Series key will be reindexed to match DataFrame index.\n"
     ]
    },
    {
     "data": {
      "text/plain": [
       "<matplotlib.legend.Legend at 0x1132dbcf8>"
      ]
     },
     "execution_count": 6,
     "metadata": {},
     "output_type": "execute_result"
    },
    {
     "data": {
      "image/png": "[encoded data removed]",
      "text/plain": [
       "<Figure size 2160x720 with 1 Axes>"
      ]
     },
     "metadata": {},
     "output_type": "display_data"
    }
   ],
   "source": [
    "# let's plot our data for less than 16 candidats running. any more and get gets sparse.\n",
    "# we can examine those data points by themselves later on.\n",
    "x = results[results['n_can'] < 16].n_can.unique()\n",
    "\n",
    "# n_can axis for winning party=OTHER. there isn't an OTHER winner for each 'x' above.\n",
    "x_other = results[results['party']=='OTHER'][results['n_can'] < 16].n_can.unique()\n",
    "\n",
    "width = 0.7   # bar width\n",
    "\n",
    "plt.figure(figsize = (30, 10))   # initialize the matplotlib figure\n",
    "\n",
    "# the four sections of each stacked bar; we don't have more granular data on winning\n",
    "# party outside of DEM and REP.\n",
    "dem = plt.bar(x, dem_n_can, width, color='b')\n",
    "rep = plt.bar(x, rep_n_can, width, color='r')\n",
    "nopty = plt.bar(x, nopty_n_can, width, color='0.7')\n",
    "other = plt.bar(x_other, other_n_can, width, color='0.4')\n",
    "\n",
    "#plt.xlabel('Number of Candidates')\n",
    "#plt.ylabel('Number of Races')\n",
    "plt.title('Number of Candidates', fontsize=36)\n",
    "\n",
    "# just some formatting to make it lok nice\n",
    "plt.xlim(xmin=1)\n",
    "plt.xticks(x, fontsize=24)\n",
    "plt.yticks(fontsize=24)\n",
    "\n",
    "# include a legend\n",
    "plt.legend((dem[0], rep[0], nopty[0], other[0]), ('Democrat', 'Republican', 'No Party', 'Other'),\n",
    "                          prop={'size':24})"
   ]
  },
  {
   "cell_type": "markdown",
   "metadata": {
    "colab_type": "text",
    "id": "v7xHdzWrQL_M"
   },
   "source": [
    "An overwhelming majority of races had less than 5 candidates running. We see how quickly the number of races drops off as number of candidates rising. I'm unsure why there doesn't seem to be any data on uncontested election, i.e., with just one condidate running. This could be either because there were no such races or because we're simply missing that data here."
   ]
  },
  {
   "cell_type": "markdown",
   "metadata": {
    "colab_type": "text",
    "id": "NLcdCbwNQL_N"
   },
   "source": [
    "Let's look at **what positions had more than 15 candidates run**."
   ]
  },
  {
   "cell_type": "code",
   "execution_count": 7,
   "metadata": {
    "colab": {},
    "colab_type": "code",
    "id": "OXDvaNeKQL_O",
    "outputId": "94598c3d-21ea-4445-b4cc-d3b02e38857e"
   },
   "outputs": [
    {
     "data": {
      "text/plain": [
       "genoffice\n",
       "Member of School Board    356\n",
       "U. S. Senator              24\n",
       "Name: candidate, dtype: int64"
      ]
     },
     "execution_count": 7,
     "metadata": {},
     "output_type": "execute_result"
    }
   ],
   "source": [
    "results[results['n_can'] > 15].groupby('genoffice').count()['candidate']"
   ]
  },
  {
   "cell_type": "markdown",
   "metadata": {
    "colab_type": "text",
    "id": "zS4WMshVQL_T"
   },
   "source": [
    "What about **more than 24**?"
   ]
  },
  {
   "cell_type": "code",
   "execution_count": 8,
   "metadata": {
    "colab": {},
    "colab_type": "code",
    "id": "rcJO1C5FQL_T",
    "outputId": "e36cdfc9-401a-4e05-f84c-083d293775a0"
   },
   "outputs": [
    {
     "data": {
      "text/plain": [
       "genoffice\n",
       "Member of School Board    192\n",
       "Name: candidate, dtype: int64"
      ]
     },
     "execution_count": 8,
     "metadata": {},
     "output_type": "execute_result"
    }
   ],
   "source": [
    "results[results['n_can'] > 24].groupby('genoffice').count()['candidate']"
   ]
  },
  {
   "cell_type": "markdown",
   "metadata": {
    "colab_type": "text",
    "id": "FQ-PN6xNQL_Y"
   },
   "source": [
    "For each position, what was the **maximum number of people who ran**?"
   ]
  },
  {
   "cell_type": "code",
   "execution_count": 9,
   "metadata": {
    "colab": {},
    "colab_type": "code",
    "id": "atc3RVG2QL_Z",
    "outputId": "2c52d19f-cc33-4c13-c0fe-c0d32f199498"
   },
   "outputs": [
    {
     "name": "stdout",
     "output_type": "stream",
     "text": [
      "                      position  max_candidates\n",
      "31      Member of School Board              37\n",
      "38               U. S. Senator              24\n",
      "16             Council Members              15\n",
      "2                     Aldermen              14\n",
      "9                    Constable              13\n",
      "34       Presidential Electors              13\n",
      "37        U. S. Representative              12\n",
      "29             Mayor-President              12\n",
      "14           Council Member(s)              12\n",
      "19                  Councilmen              11\n",
      "26        Justice of the Peace               9\n",
      "8                 City Marshal               7\n",
      "15  Council Member(s) at Large               7\n",
      "28                       Mayor               7\n",
      "5              Chief of Police               6\n",
      "17                  Councilman               6\n",
      "23                       Judge               6\n",
      "10                Constable(s)               5\n",
      "22              District Judge               5\n",
      "32            Parish President               5\n",
      "6                   City Judge               5\n",
      "0                     Alderman               5\n",
      "1            Alderman at Large               5\n",
      "12              Council Member               5\n",
      "21           District Attorney               4\n",
      "20         Councilmen at Large               4\n",
      "30    Member of Parish Council               4\n",
      "27                     Marshal               3\n",
      "18         Councilman at Large               3\n",
      "13     Council Member at Large               3\n",
      "35                         PSC               3\n",
      "36                   Selectman               3\n",
      "3                     Assessor               3\n",
      "7       City Judge, City Court               2\n",
      "25         Judge, Family Court               2\n",
      "11                     Coroner               2\n",
      "33                Police Juror               2\n",
      "4            Associate Justice               2\n",
      "24      Judge, Court of Appeal               2\n"
     ]
    }
   ],
   "source": [
    "positions = results.genoffice.unique()\n",
    "\n",
    "max_can_by_pos = [results[results['genoffice']==pos].n_can.unique().max() for pos in positions]\n",
    "max_can = pd.DataFrame({'position': positions, 'max_candidates': max_can_by_pos})\n",
    "\n",
    "max_can_sorted = max_can.sort_values('max_candidates', ascending=False)\n",
    "print(max_can_sorted)"
   ]
  },
  {
   "cell_type": "markdown",
   "metadata": {
    "colab_type": "text",
    "id": "t-UMfwC8QL_i"
   },
   "source": [
    "### Races with two candidates"
   ]
  },
  {
   "cell_type": "code",
   "execution_count": 28,
   "metadata": {
    "colab": {},
    "colab_type": "code",
    "id": "nBbpRy7RQL_j",
    "outputId": "b56b4724-2860-48f3-e8a6-40d3c1111fe2"
   },
   "outputs": [
    {
     "name": "stdout",
     "output_type": "stream",
     "text": [
      "Mayor                       154\n",
      "Alderman                    116\n",
      "Chief of Police              98\n",
      "Member of School Board       86\n",
      "Council Member               66\n",
      "Constable                    64\n",
      "District Judge               50\n",
      "Justice of the Peace         48\n",
      "Councilman                   38\n",
      "District Attorney            22\n",
      "Constable(s)                 22\n",
      "City Marshal                 18\n",
      "City Judge                   16\n",
      "Selectman                    12\n",
      "Alderman at Large            10\n",
      "Judge                        10\n",
      "Judge, Court of Appeal        8\n",
      "Police Juror                  6\n",
      "Marshal                       6\n",
      "Member of Parish Council      6\n",
      "U. S. Representative          4\n",
      "Councilman at Large           4\n",
      "Judge, Family Court           2\n",
      "City Judge, City Court        2\n",
      "Associate Justice             2\n",
      "PSC                           2\n",
      "Coroner                       2\n",
      "Name: genoffice, dtype: int64\n",
      "                    position  num_two_can  total_races  fraction_two_can\n",
      "26                   Coroner            2            2          1.000000\n",
      "16    Judge, Court of Appeal            8            8          1.000000\n",
      "24         Associate Justice            2            2          1.000000\n",
      "23    City Judge, City Court            2            2          1.000000\n",
      "22       Judge, Family Court            2            2          1.000000\n",
      "17              Police Juror            6            6          1.000000\n",
      "18                   Marshal            6            9          0.666667\n",
      "13                 Selectman           12           18          0.666667\n",
      "9          District Attorney           22           35          0.628571\n",
      "21       Councilman at Large            4            7          0.571429\n",
      "4             Council Member           66          123          0.536585\n",
      "1                   Alderman          116          218          0.532110\n",
      "10              Constable(s)           22           44          0.500000\n",
      "0                      Mayor          154          323          0.476780\n",
      "14         Alderman at Large           10           22          0.454545\n",
      "2            Chief of Police           98          238          0.411765\n",
      "6             District Judge           50          132          0.378788\n",
      "12                City Judge           16           47          0.340426\n",
      "8                 Councilman           38          113          0.336283\n",
      "15                     Judge           10           38          0.263158\n",
      "19  Member of Parish Council            6           23          0.260870\n",
      "5                  Constable           64          251          0.254980\n",
      "25                       PSC            2            8          0.250000\n",
      "11              City Marshal           18           77          0.233766\n",
      "7       Justice of the Peace           48          234          0.205128\n",
      "3     Member of School Board           86          600          0.143333\n",
      "20      U. S. Representative            4           72          0.055556\n"
     ]
    }
   ],
   "source": [
    "two_can_positions = results[results['n_can']==2]['genoffice'].value_counts()\n",
    "n_can_positions = results['genoffice'].value_counts()\n",
    "\n",
    "two_candidates = pd.DataFrame()\n",
    "two_candidates['position'] = two_can_positions.keys().tolist()\n",
    "two_candidates['num_two_can'] = two_can_positions.tolist()\n",
    "two_candidates['total_races'] = [n_can_positions[pos] for pos in two_candidates['position']]\n",
    "two_candidates['fraction_two_can'] = two_candidates['num_two_can'] / two_candidates['total_races']\n",
    "\n",
    "#for pos, val in zip(two_can_positions.keys().tolist(), two_can_positions.tolist()):\n",
    "#    print(pos, val)\n",
    "#    print(n_can_positions[pos])\n",
    "\n",
    "#[total / two_can for total, two_can in zip()]\n",
    "\n",
    "print(two_can_positions)\n",
    "\n",
    "print(two_candidates.sort_values('fraction_two_can', ascending=False))"
   ]
  },
  {
   "cell_type": "code",
   "execution_count": 58,
   "metadata": {
    "colab": {},
    "colab_type": "code",
    "id": "WwcN_AzqQL_o"
   },
   "outputs": [
    {
     "name": "stdout",
     "output_type": "stream",
     "text": [
      "['Member of School Board' 'U. S. Senator' 'Council Members' 'Aldermen'\n",
      " 'Constable']\n"
     ]
    },
    {
     "data": {
      "text/plain": [
       "Text(0,0.5,'Number of Elections')"
      ]
     },
     "execution_count": 58,
     "metadata": {},
     "output_type": "execute_result"
    },
    {
     "data": {
      "image/png": "[encoded data removed]",
      "text/plain": [
       "<Figure size 432x288 with 1 Axes>"
      ]
     },
     "metadata": {},
     "output_type": "display_data"
    }
   ],
   "source": [
    "unique_n_can = results.n_can.unique()\n",
    "unique_n_can\n",
    "\n",
    "num_pos = 5\n",
    "\n",
    "competitive_pos = max_can_sorted[0:num_pos]['position'].values\n",
    "print(competitive_pos)\n",
    "\n",
    "for pos in competitive_pos:\n",
    "    l = results[results['genoffice']==pos]['n_can'].value_counts()\n",
    "    plt.scatter(l.keys(), l.values, label=pos)\n",
    "\n",
    "plt.legend(bbox_to_anchor=(1.04,1), loc=\"upper left\")\n",
    "plt.xlabel('Number of Candidates')\n",
    "plt.ylabel('Number of Elections')"
   ]
  },
  {
   "cell_type": "markdown",
   "metadata": {},
   "source": [
    "This plot is interesting because of what it *doesn't tell us*. There isn't a clear trend that sustains across positions.\n",
    "\n",
    "**IDEA:** Could we group the positions by those that **fall off with n_can** versus those that **rise with n_can**? "
   ]
  },
  {
   "cell_type": "code",
   "execution_count": null,
   "metadata": {},
   "outputs": [],
   "source": []
  }
 ],
 "metadata": {
  "colab": {
   "name": "results_eda.ipynb",
   "provenance": [],
   "toc_visible": true,
   "version": "0.3.2"
  },
  "kernelspec": {
   "display_name": "Python [default]",
   "language": "python",
   "name": "python3"
  },
  "language_info": {
   "codemirror_mode": {
    "name": "ipython",
    "version": 3
   },
   "file_extension": ".py",
   "mimetype": "text/x-python",
   "name": "python",
   "nbconvert_exporter": "python",
   "pygments_lexer": "ipython3",
   "version": "3.6.5"
  }
 },
 "nbformat": 4,
 "nbformat_minor": 2
}
